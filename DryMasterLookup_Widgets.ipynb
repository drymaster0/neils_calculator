{
 "cells": [
  {
   "cell_type": "markdown",
   "id": "4110d0e5",
   "metadata": {},
   "source": [
    "<img src=\"./dry.png\">\n",
    "\n",
    "### Lookup table\n",
    "uses measurement data"
   ]
  },
  {
   "cell_type": "code",
   "execution_count": 1,
   "id": "a7230dd5",
   "metadata": {},
   "outputs": [],
   "source": [
    "import pandas as pd \n",
    "import ipywidgets as widgets\n",
    "# import matplotlib.pyplot as plt\n",
    "import matplotlib as plt\n",
    "from ipywidgets import interact, Layout"
   ]
  },
  {
   "cell_type": "code",
   "execution_count": 2,
   "id": "3c62374f",
   "metadata": {},
   "outputs": [],
   "source": [
    "# Import Data from excel sheet\n",
    "# Index(['Swirler', 'Disc series', 'Pressure', 'Flow', 'Angle', 'Bore','Sauter']\n",
    "########################################################\n",
    "# Caution - use correct data file here: ################\n",
    "PathToDatabase = './Meas_DryMaster_Low-Flow.xlsx'\n",
    "########################################################\n",
    "# df = pd.read_excel (r'.\\SprayDry\\SprayDryingLowFlow.xlsx')\n",
    "# df = pd.read_excel (PathToDatabase)\n",
    "df = pd.read_csv ('Meas_DryMaster_Low-Flow.csv')"
   ]
  },
  {
   "cell_type": "code",
   "execution_count": 6,
   "id": "d31be79f",
   "metadata": {},
   "outputs": [],
   "source": [
    "# REQ 1.1: Search database for input of pressure, Orifice Size and Swirl Chamber Size [and flow measurement is valid]\n",
    "# REQ1.2: Search Database for input of pressure,flow rate and no.of nozzles\n",
    "def filterByFlow(Nozzles,Flow):\n",
    "    flowPerNozzle = Flow/Nozzles\n",
    "    display('Flow per nozzle:', round(flowPerNozzle,3))\n",
    "    upperFlow = flowPerNozzle*1.1\n",
    "    lowerFlow = flowPerNozzle*0.9\n",
    "    display(df[(df.Flow >= lowerFlow) & (df.Flow <= upperFlow)])\n",
    "\n",
    "def show_df(Swirler, Bore, Pressure, Diagram):\n",
    "    # df = pd.read_excel(PathToDatabase)\n",
    "    if Diagram == False:\n",
    "        display(df[(df.Swirler==Swirler) & (df.Bore==Bore) & (df.Pressure==Pressure)])\n",
    "    if Diagram == True:\n",
    "        # display(df[(df.Swirler==Swirler) & (df.Bore==Bore)])\n",
    "        filtered_df = df[(df.Swirler==Swirler) & (df.Bore==Bore)]\n",
    "        display(filtered_df)\n",
    "        plotFlow = filtered_df.Flow\n",
    "        plotPressure = filtered_df.Pressure\n",
    "        plt.pyplot.plot(plotFlow, plotPressure,'bo-')\n",
    "        plt.pyplot.xlabel('Flow rate in lpm')\n",
    "        plt.pyplot.ylabel('Pressure in bar')\n",
    "        plt.pyplot.grid(color='g', linestyle=':', linewidth=1)"
   ]
  },
  {
   "cell_type": "code",
   "execution_count": 7,
   "id": "6f4c47ef",
   "metadata": {},
   "outputs": [],
   "source": [
    "# Create List with unique entries for Swirler\n",
    "SwirlerList = list(set(df.Swirler))\n",
    "\n",
    "# Create List with unique entries for Pressure\n",
    "PressureList = list(set(df.Pressure))\n",
    "\n",
    "# Create List with unique entries for Bore\n",
    "BoreList = list(set(df.Bore))"
   ]
  },
  {
   "cell_type": "code",
   "execution_count": 8,
   "id": "6ddb2463",
   "metadata": {},
   "outputs": [
    {
     "data": {
      "application/vnd.jupyter.widget-view+json": {
       "model_id": "e4befcddedde40348f21460f45204f50",
       "version_major": 2,
       "version_minor": 0
      },
      "text/plain": [
       "Tab(children=(Output(), Output()), layout=Layout(width='100%'), _titles={'0': 'Swirler & Bore', '1': 'multiple…"
      ]
     },
     "metadata": {},
     "output_type": "display_data"
    }
   ],
   "source": [
    "out1, out2 = widgets.Output(), widgets.Output()\n",
    "with out1: \n",
    "    interact(show_df, Swirler = SwirlerList, Bore = BoreList, Pressure = PressureList, Diagram = False)\n",
    "\n",
    "with out2: \n",
    "    interact(filterByFlow, Nozzles = (1,10,1), Flow = (0.1,10,0.1))\n",
    "    \n",
    "tab = widgets.Tab(children = [out1, out2], layout=Layout(width='100%'))\n",
    "tab.set_title(0, 'Swirler & Bore')\n",
    "tab.set_title(1, 'multiple nozzles')\n",
    "display(tab)"
   ]
  },
  {
   "cell_type": "code",
   "execution_count": null,
   "id": "11ca5faf",
   "metadata": {},
   "outputs": [],
   "source": []
  }
 ],
 "metadata": {
  "kernelspec": {
   "display_name": "Python 3",
   "language": "python",
   "name": "python3"
  },
  "language_info": {
   "codemirror_mode": {
    "name": "ipython",
    "version": 3
   },
   "file_extension": ".py",
   "mimetype": "text/x-python",
   "name": "python",
   "nbconvert_exporter": "python",
   "pygments_lexer": "ipython3",
   "version": "3.7.12"
  }
 },
 "nbformat": 4,
 "nbformat_minor": 5
}
